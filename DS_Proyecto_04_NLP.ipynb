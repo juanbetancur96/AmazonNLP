{
 "cells": [
  {
   "cell_type": "markdown",
   "metadata": {
    "id": "2GRQnxMzISE_"
   },
   "source": [
    "# Proyecto 03 - Procesamiento del Lenguaje Natural\n",
    "\n",
    "## Dataset: The Multilingual Amazon Reviews Corpus\n",
    "\n",
    "**Recuerda descargar el dataset de [aquí](https://github.com/kang205/SASRec). Es un archivo .zip que contiene tres documentos. Más información sobre el dataset [aquí](https://registry.opendata.aws/amazon-reviews-ml/). Es importante que tengas en cuenta la [licencia](https://docs.opendata.aws/amazon-reviews-ml/license.txt) de este dataset.**\n",
    "\n",
    "### Exploración de datos y Procesamiento del Lenguaje Natural\n",
    "\n",
    "Dedícale un buen tiempo a hacer un Análisis Exploratorio de Datos. Considera que hasta que no hayas aplicado las herramientas de Procesamiento del Lenguaje Natural vistas, será difícil completar este análisis. Elige preguntas que creas que puedas responder con este dataset. Por ejemplo, ¿qué palabras están asociadas a calificaciones positivas y qué palabras a calificaciones negativas?\n",
    "\n",
    "### Machine Learning\n",
    "\n",
    "Implementa un modelo que, dada la crítica de un producto, asigne la cantidad de estrellas correspondiente. **Para pensar**: ¿es un problema de Clasificación o de Regresión?\n",
    "\n",
    "1. Haz todas las transformaciones de datos que consideres necesarias. Justifica.\n",
    "1. Evalúa de forma apropiada sus resultados. Justifica la métrica elegida.\n",
    "1. Elige un modelo benchmark y compara tus resultados con este modelo.\n",
    "1. Optimiza los hiperparámetros de tu modelo.\n",
    "1. Intenta responder la pregunta: ¿Qué información está usando el modelo para predecir?\n",
    "\n",
    "**Recomendación:** si no te resulta conveniente trabajar en español con NLTK, te recomendamos que explores la librería [spaCy](https://spacy.io/).\n",
    "\n",
    "### Para pensar, investigar y, opcionalmente, implementar\n",
    "1. ¿Valdrá la pena convertir el problema de Machine Learning en un problema binario? Es decir, asignar únicamente las etiquetas Positiva y Negativa a cada crítica y hacer un modelo que, en lugar de predecir las estrellas, prediga esa etiqueta. Pensar en qué situación puede ser útil. ¿Esperas que el desempeño sea mejor o peor?\n",
    "1. ¿Hay algo que te gustaría investigar o probar?\n",
    "\n",
    "### **¡Tómate tiempo para investigar y leer mucho!**"
   ]
  },
  {
   "cell_type": "code",
   "execution_count": 1,
   "metadata": {
    "id": "x1GFwraSISFB",
    "scrolled": true
   },
   "outputs": [
    {
     "name": "stderr",
     "output_type": "stream",
     "text": [
      "[nltk_data] Downloading package punkt to\n",
      "[nltk_data]     C:\\Users\\JBATENCU\\AppData\\Roaming\\nltk_data...\n",
      "[nltk_data]   Package punkt is already up-to-date!\n",
      "[nltk_data] Downloading package stopwords to\n",
      "[nltk_data]     C:\\Users\\JBATENCU\\AppData\\Roaming\\nltk_data...\n",
      "[nltk_data]   Package stopwords is already up-to-date!\n"
     ]
    },
    {
     "data": {
      "text/plain": [
       "True"
      ]
     },
     "execution_count": 1,
     "metadata": {},
     "output_type": "execute_result"
    }
   ],
   "source": [
    "import pandas as pd\n",
    "import numpy as np\n",
    "import matplotlib.pyplot as plt\n",
    "import seaborn as sns\n",
    "sns.set()\n",
    "from sklearn.metrics import f1_score\n",
    "from sklearn.ensemble import RandomForestRegressor\n",
    "from sklearn.metrics import confusion_matrix\n",
    "from sklearn.svm import SVR\n",
    "from sklearn.svm import LinearSVC\n",
    "from sklearn.model_selection import train_test_split\n",
    "from sklearn.ensemble import RandomForestClassifier\n",
    "from sklearn.naive_bayes import GaussianNB\n",
    "from sklearn.metrics import mean_absolute_error\n",
    "from sklearn.model_selection import RandomizedSearchCV\n",
    "from sklearn import metrics\n",
    "import nltk\n",
    "\n",
    "#Esto sirve para configurar NLTK. La primera vez puede tardar un poco\n",
    "nltk.download('punkt')\n",
    "nltk.download('stopwords')"
   ]
  },
  {
   "cell_type": "markdown",
   "metadata": {},
   "source": [
    "Comenzamos importando el dataset de entrenamiento ya que de los 3 archivos del dataset de amazon es el que contiene más datos y al tener más datos nos brindará un mejor modelo."
   ]
  },
  {
   "cell_type": "code",
   "execution_count": 2,
   "metadata": {},
   "outputs": [
    {
     "data": {
      "text/html": [
       "<div>\n",
       "<style scoped>\n",
       "    .dataframe tbody tr th:only-of-type {\n",
       "        vertical-align: middle;\n",
       "    }\n",
       "\n",
       "    .dataframe tbody tr th {\n",
       "        vertical-align: top;\n",
       "    }\n",
       "\n",
       "    .dataframe thead th {\n",
       "        text-align: right;\n",
       "    }\n",
       "</style>\n",
       "<table border=\"1\" class=\"dataframe\">\n",
       "  <thead>\n",
       "    <tr style=\"text-align: right;\">\n",
       "      <th></th>\n",
       "      <th>review_id</th>\n",
       "      <th>product_id</th>\n",
       "      <th>reviewer_id</th>\n",
       "      <th>stars</th>\n",
       "      <th>review_body</th>\n",
       "      <th>review_title</th>\n",
       "      <th>language</th>\n",
       "      <th>product_category</th>\n",
       "    </tr>\n",
       "  </thead>\n",
       "  <tbody>\n",
       "    <tr>\n",
       "      <th>0</th>\n",
       "      <td>es_0417480</td>\n",
       "      <td>product_es_0873923</td>\n",
       "      <td>reviewer_es_0672978</td>\n",
       "      <td>1</td>\n",
       "      <td>Malisimo, muy grande demasiado aparatoso y mal...</td>\n",
       "      <td>Mala compra</td>\n",
       "      <td>es</td>\n",
       "      <td>wireless</td>\n",
       "    </tr>\n",
       "    <tr>\n",
       "      <th>1</th>\n",
       "      <td>es_0180432</td>\n",
       "      <td>product_es_0713146</td>\n",
       "      <td>reviewer_es_0100858</td>\n",
       "      <td>1</td>\n",
       "      <td>No he recibido el pedido no la devolución</td>\n",
       "      <td>No lo he recibido</td>\n",
       "      <td>es</td>\n",
       "      <td>apparel</td>\n",
       "    </tr>\n",
       "    <tr>\n",
       "      <th>2</th>\n",
       "      <td>es_0144850</td>\n",
       "      <td>product_es_0356874</td>\n",
       "      <td>reviewer_es_0486447</td>\n",
       "      <td>1</td>\n",
       "      <td>Tengo que buscar otro sistema, este no funcion...</td>\n",
       "      <td>Que no aprieta bien en el manillar</td>\n",
       "      <td>es</td>\n",
       "      <td>sports</td>\n",
       "    </tr>\n",
       "    <tr>\n",
       "      <th>3</th>\n",
       "      <td>es_0339629</td>\n",
       "      <td>product_es_0939832</td>\n",
       "      <td>reviewer_es_0894703</td>\n",
       "      <td>1</td>\n",
       "      <td>Utilicé las brocas de menor diámetro y se me d...</td>\n",
       "      <td>Brocas de mantequilla</td>\n",
       "      <td>es</td>\n",
       "      <td>home_improvement</td>\n",
       "    </tr>\n",
       "    <tr>\n",
       "      <th>4</th>\n",
       "      <td>es_0858362</td>\n",
       "      <td>product_es_0489066</td>\n",
       "      <td>reviewer_es_0887663</td>\n",
       "      <td>1</td>\n",
       "      <td>No me gusta su olor a viejo y aspecto malo</td>\n",
       "      <td>No me gusta</td>\n",
       "      <td>es</td>\n",
       "      <td>beauty</td>\n",
       "    </tr>\n",
       "  </tbody>\n",
       "</table>\n",
       "</div>"
      ],
      "text/plain": [
       "    review_id          product_id          reviewer_id  stars  \\\n",
       "0  es_0417480  product_es_0873923  reviewer_es_0672978      1   \n",
       "1  es_0180432  product_es_0713146  reviewer_es_0100858      1   \n",
       "2  es_0144850  product_es_0356874  reviewer_es_0486447      1   \n",
       "3  es_0339629  product_es_0939832  reviewer_es_0894703      1   \n",
       "4  es_0858362  product_es_0489066  reviewer_es_0887663      1   \n",
       "\n",
       "                                         review_body  \\\n",
       "0  Malisimo, muy grande demasiado aparatoso y mal...   \n",
       "1          No he recibido el pedido no la devolución   \n",
       "2  Tengo que buscar otro sistema, este no funcion...   \n",
       "3  Utilicé las brocas de menor diámetro y se me d...   \n",
       "4         No me gusta su olor a viejo y aspecto malo   \n",
       "\n",
       "                         review_title language  product_category  \n",
       "0                         Mala compra       es          wireless  \n",
       "1                   No lo he recibido       es           apparel  \n",
       "2  Que no aprieta bien en el manillar       es            sports  \n",
       "3               Brocas de mantequilla       es  home_improvement  \n",
       "4                         No me gusta       es            beauty  "
      ]
     },
     "execution_count": 2,
     "metadata": {},
     "output_type": "execute_result"
    }
   ],
   "source": [
    "dataset = pd.read_json(r'C:\\Users\\JBATENCU\\Desktop\\Proyecto3\\dataset_amazon\\dataset_es_dev.json',lines=True)\n",
    "dataset.head()"
   ]
  },
  {
   "cell_type": "code",
   "execution_count": 3,
   "metadata": {},
   "outputs": [
    {
     "data": {
      "text/plain": [
       "(5000, 8)"
      ]
     },
     "execution_count": 3,
     "metadata": {},
     "output_type": "execute_result"
    }
   ],
   "source": [
    "#Vemos el tamaño del dataset\n",
    "dataset.shape"
   ]
  },
  {
   "cell_type": "markdown",
   "metadata": {},
   "source": [
    "Lo primero que observamos del dataset es que las columnas review_id, review_title y las estrellas son realmente las que tendremos que usar para entrenar el modelo, donde inicialmente crearemos una columna nueva con la concatenación de los review y aplicaremos todas las fases del NLP para luego crear un modelo que nos permita predecir las estrellas de acuerdo al comentario"
   ]
  },
  {
   "cell_type": "markdown",
   "metadata": {},
   "source": [
    "Lo primero que queremos ver del dataset es si existe algún tipo de sesgo en la data, pero de la gráfica podemos ver que está perfectamente equilibrada la cantidad de datos por calificación, así todos los posibles puntajes (1-5) tienen la misma cantidad de registros."
   ]
  },
  {
   "cell_type": "code",
   "execution_count": 4,
   "metadata": {},
   "outputs": [
    {
     "data": {
      "image/png": "[encoded data removed]",
      "text/plain": [
       "<Figure size 432x288 with 1 Axes>"
      ]
     },
     "metadata": {},
     "output_type": "display_data"
    }
   ],
   "source": [
    "sns.countplot(data = dataset , x='stars')\n",
    "plt.show()"
   ]
  },
  {
   "cell_type": "markdown",
   "metadata": {},
   "source": [
    "Queremos responder la pregunta si existe algún tipo de bot que esté generando reviews negativos constantemente, en caso que esta afirmación fuera cierta existiría un reviewer que tendría una cantidad enorme de calificaciones. Pero nos encontramos que el reviewer con más calificaciones tiene 23 estrellas brindadas. "
   ]
  },
  {
   "cell_type": "code",
   "execution_count": 5,
   "metadata": {},
   "outputs": [
    {
     "name": "stdout",
     "output_type": "stream",
     "text": [
      "Tamaño del dataset completo:  (5000, 8)\n",
      "Tamaño del dataset Con la agrupación por usuarios:  (4982, 1)\n",
      "                     stars\n",
      "reviewer_id               \n",
      "reviewer_es_0672560      9\n",
      "reviewer_es_0964440      8\n",
      "reviewer_es_0024641      8\n",
      "reviewer_es_0986865      7\n",
      "reviewer_es_0865785      7\n",
      "...                    ...\n",
      "reviewer_es_0273252      1\n",
      "reviewer_es_0422970      1\n",
      "reviewer_es_0835958      1\n",
      "reviewer_es_0153041      1\n",
      "reviewer_es_0542346      1\n",
      "\n",
      "[4982 rows x 1 columns]\n"
     ]
    }
   ],
   "source": [
    "TopReviewers = dataset.groupby(by=[\"reviewer_id\"]).sum()\n",
    "print(\"Tamaño del dataset completo: \",dataset.shape)\n",
    "print(\"Tamaño del dataset Con la agrupación por usuarios: \",TopReviewers.shape)\n",
    "TopReviewers= TopReviewers.sort_values(by='stars',ascending=False)\n",
    "print(TopReviewers)\n"
   ]
  },
  {
   "cell_type": "markdown",
   "metadata": {},
   "source": [
    "Cuándo analizamos el reviewer con más calificaciones vemos que son pocas reviews(7) y no representan comentarios negativos por ende concluimos que no existe un bot generando malos reviews."
   ]
  },
  {
   "cell_type": "code",
   "execution_count": 6,
   "metadata": {},
   "outputs": [
    {
     "data": {
      "text/html": [
       "<div>\n",
       "<style scoped>\n",
       "    .dataframe tbody tr th:only-of-type {\n",
       "        vertical-align: middle;\n",
       "    }\n",
       "\n",
       "    .dataframe tbody tr th {\n",
       "        vertical-align: top;\n",
       "    }\n",
       "\n",
       "    .dataframe thead th {\n",
       "        text-align: right;\n",
       "    }\n",
       "</style>\n",
       "<table border=\"1\" class=\"dataframe\">\n",
       "  <thead>\n",
       "    <tr style=\"text-align: right;\">\n",
       "      <th></th>\n",
       "      <th>review_id</th>\n",
       "      <th>product_id</th>\n",
       "      <th>reviewer_id</th>\n",
       "      <th>stars</th>\n",
       "      <th>review_body</th>\n",
       "      <th>review_title</th>\n",
       "      <th>language</th>\n",
       "      <th>product_category</th>\n",
       "    </tr>\n",
       "  </thead>\n",
       "  <tbody>\n",
       "  </tbody>\n",
       "</table>\n",
       "</div>"
      ],
      "text/plain": [
       "Empty DataFrame\n",
       "Columns: [review_id, product_id, reviewer_id, stars, review_body, review_title, language, product_category]\n",
       "Index: []"
      ]
     },
     "execution_count": 6,
     "metadata": {},
     "output_type": "execute_result"
    }
   ],
   "source": [
    "MaxReview=dataset[dataset['reviewer_id'] == 'reviewer_es_0588051']\n",
    "MaxReview"
   ]
  },
  {
   "cell_type": "markdown",
   "metadata": {},
   "source": [
    "Como pregunta adicional a responder del dataset, haremos una exploracion por categorías para saber cuáles son las que más califican los usuarios y cuál es la categoría con más calificaciones sobre 5 y cuáles sobre 1"
   ]
  },
  {
   "cell_type": "code",
   "execution_count": 7,
   "metadata": {},
   "outputs": [
    {
     "data": {
      "text/plain": [
       "<AxesSubplot:xlabel='product_category', ylabel='count'>"
      ]
     },
     "execution_count": 7,
     "metadata": {},
     "output_type": "execute_result"
    },
    {
     "data": {
      "image/png": "[encoded data removed]",
      "text/plain": [
       "<Figure size 432x288 with 1 Axes>"
      ]
     },
     "metadata": {},
     "output_type": "display_data"
    }
   ],
   "source": [
    "sns.countplot(x=\"product_category\", hue=\"stars\",data=dataset,order=dataset.product_category.value_counts().iloc[:5].index)"
   ]
  },
  {
   "cell_type": "markdown",
   "metadata": {},
   "source": [
    "Del gráfico anterior se puede observar que la categoría que más reviews tiene es la categoría \"wireless\" y que dentro de esta la mayoría de las calificaciones son de una estrella y la menor cantidad de calificaciones son de 5 estrellas."
   ]
  },
  {
   "cell_type": "code",
   "execution_count": 8,
   "metadata": {},
   "outputs": [
    {
     "data": {
      "text/plain": [
       "Text(0, 0.5, 'Cantidad')"
      ]
     },
     "execution_count": 8,
     "metadata": {},
     "output_type": "execute_result"
    },
    {
     "data": {
      "image/png": "[encoded data removed]",
      "text/plain": [
       "<Figure size 1080x360 with 1 Axes>"
      ]
     },
     "metadata": {},
     "output_type": "display_data"
    }
   ],
   "source": [
    "#Filtramos por los registros con 5 estrellas\n",
    "dataset5stars= dataset[dataset.stars==5]\n",
    "plt.figure(figsize=(15,5))\n",
    "#Se realiz ala gráfica solo teniendo en cuenta los 5 categorías principales\n",
    "sns.countplot(x=\"product_category\",data=dataset5stars,order=dataset5stars.product_category.value_counts().iloc[:5].index)\n",
    "plt.legend([\"5 Estrellas\"])\n",
    "plt.xlabel(\"Producto\")\n",
    "plt.ylabel(\"Cantidad\")\n"
   ]
  },
  {
   "cell_type": "markdown",
   "metadata": {},
   "source": [
    "Del gráfico anterior se puede ver más claro que la categoría que tiene más calificaciones con 5 estrellas es las de \"home\""
   ]
  },
  {
   "cell_type": "code",
   "execution_count": 9,
   "metadata": {},
   "outputs": [
    {
     "data": {
      "text/plain": [
       "Text(0, 0.5, 'Cantidad')"
      ]
     },
     "execution_count": 9,
     "metadata": {},
     "output_type": "execute_result"
    },
    {
     "data": {
      "image/png": "[encoded data removed]",
      "text/plain": [
       "<Figure size 1080x360 with 1 Axes>"
      ]
     },
     "metadata": {},
     "output_type": "display_data"
    }
   ],
   "source": [
    "#Filtramos por los registros con solo una estrella\n",
    "dataset1star= dataset[dataset.stars==1]\n",
    "plt.figure(figsize=(15,5))\n",
    "#Se realiz ala gráfica solo teniendo en cuenta los 5 categorías principales\n",
    "sns.countplot(x=\"product_category\",data=dataset1star,order=dataset1star.product_category.value_counts().iloc[:5].index)\n",
    "plt.legend([\"1 Estrella\"])\n",
    "plt.xlabel(\"Producto\")\n",
    "plt.ylabel(\"Cantidad\")\n"
   ]
  },
  {
   "cell_type": "markdown",
   "metadata": {},
   "source": [
    "el gráfico anterior es de cuántas calificaciones negativas de 1 por categoría se tienen en el dataset. Al final podemos observar que la categoría \"wireless\" tiene la mayor cantidad de calificaciones negativas con valor 1."
   ]
  },
  {
   "cell_type": "markdown",
   "metadata": {},
   "source": [
    "#### Preparación del dasaet para llevarlo al modelo"
   ]
  },
  {
   "cell_type": "markdown",
   "metadata": {},
   "source": [
    "Para el entrenamiento de nuestro modelo tomaremos solamente las columnas review body,review title y la columna stars"
   ]
  },
  {
   "cell_type": "code",
   "execution_count": 10,
   "metadata": {},
   "outputs": [
    {
     "data": {
      "text/html": [
       "<div>\n",
       "<style scoped>\n",
       "    .dataframe tbody tr th:only-of-type {\n",
       "        vertical-align: middle;\n",
       "    }\n",
       "\n",
       "    .dataframe tbody tr th {\n",
       "        vertical-align: top;\n",
       "    }\n",
       "\n",
       "    .dataframe thead th {\n",
       "        text-align: right;\n",
       "    }\n",
       "</style>\n",
       "<table border=\"1\" class=\"dataframe\">\n",
       "  <thead>\n",
       "    <tr style=\"text-align: right;\">\n",
       "      <th></th>\n",
       "      <th>review_body</th>\n",
       "      <th>review_title</th>\n",
       "      <th>stars</th>\n",
       "    </tr>\n",
       "  </thead>\n",
       "  <tbody>\n",
       "    <tr>\n",
       "      <th>0</th>\n",
       "      <td>Malisimo, muy grande demasiado aparatoso y mal...</td>\n",
       "      <td>Mala compra</td>\n",
       "      <td>1</td>\n",
       "    </tr>\n",
       "    <tr>\n",
       "      <th>1</th>\n",
       "      <td>No he recibido el pedido no la devolución</td>\n",
       "      <td>No lo he recibido</td>\n",
       "      <td>1</td>\n",
       "    </tr>\n",
       "    <tr>\n",
       "      <th>2</th>\n",
       "      <td>Tengo que buscar otro sistema, este no funcion...</td>\n",
       "      <td>Que no aprieta bien en el manillar</td>\n",
       "      <td>1</td>\n",
       "    </tr>\n",
       "    <tr>\n",
       "      <th>3</th>\n",
       "      <td>Utilicé las brocas de menor diámetro y se me d...</td>\n",
       "      <td>Brocas de mantequilla</td>\n",
       "      <td>1</td>\n",
       "    </tr>\n",
       "    <tr>\n",
       "      <th>4</th>\n",
       "      <td>No me gusta su olor a viejo y aspecto malo</td>\n",
       "      <td>No me gusta</td>\n",
       "      <td>1</td>\n",
       "    </tr>\n",
       "  </tbody>\n",
       "</table>\n",
       "</div>"
      ],
      "text/plain": [
       "                                         review_body  \\\n",
       "0  Malisimo, muy grande demasiado aparatoso y mal...   \n",
       "1          No he recibido el pedido no la devolución   \n",
       "2  Tengo que buscar otro sistema, este no funcion...   \n",
       "3  Utilicé las brocas de menor diámetro y se me d...   \n",
       "4         No me gusta su olor a viejo y aspecto malo   \n",
       "\n",
       "                         review_title  stars  \n",
       "0                         Mala compra      1  \n",
       "1                   No lo he recibido      1  \n",
       "2  Que no aprieta bien en el manillar      1  \n",
       "3               Brocas de mantequilla      1  \n",
       "4                         No me gusta      1  "
      ]
     },
     "execution_count": 10,
     "metadata": {},
     "output_type": "execute_result"
    }
   ],
   "source": [
    "#tomamos las columnas review body,review title y la columna stars\n",
    "dataset = dataset.iloc[:,[4,5,3]]\n",
    "#Eliminamos registro vacíos\n",
    "dataset.dropna(axis=0,inplace=True)  # Si hay alguna nan, tiramos esa instancia\n",
    "dataset.head()"
   ]
  },
  {
   "cell_type": "markdown",
   "metadata": {},
   "source": [
    "Creamos una columna nueva que es la concatenación entre reviewbody y review title para así tener una columna con más información."
   ]
  },
  {
   "cell_type": "code",
   "execution_count": 11,
   "metadata": {},
   "outputs": [
    {
     "data": {
      "text/html": [
       "<div>\n",
       "<style scoped>\n",
       "    .dataframe tbody tr th:only-of-type {\n",
       "        vertical-align: middle;\n",
       "    }\n",
       "\n",
       "    .dataframe tbody tr th {\n",
       "        vertical-align: top;\n",
       "    }\n",
       "\n",
       "    .dataframe thead th {\n",
       "        text-align: right;\n",
       "    }\n",
       "</style>\n",
       "<table border=\"1\" class=\"dataframe\">\n",
       "  <thead>\n",
       "    <tr style=\"text-align: right;\">\n",
       "      <th></th>\n",
       "      <th>review_body</th>\n",
       "      <th>review_title</th>\n",
       "      <th>stars</th>\n",
       "      <th>ReviewConcat</th>\n",
       "    </tr>\n",
       "  </thead>\n",
       "  <tbody>\n",
       "    <tr>\n",
       "      <th>0</th>\n",
       "      <td>Malisimo, muy grande demasiado aparatoso y mal...</td>\n",
       "      <td>Mala compra</td>\n",
       "      <td>1</td>\n",
       "      <td>Mala compra Malisimo, muy grande demasiado apa...</td>\n",
       "    </tr>\n",
       "    <tr>\n",
       "      <th>1</th>\n",
       "      <td>No he recibido el pedido no la devolución</td>\n",
       "      <td>No lo he recibido</td>\n",
       "      <td>1</td>\n",
       "      <td>No lo he recibido No he recibido el pedido no ...</td>\n",
       "    </tr>\n",
       "    <tr>\n",
       "      <th>2</th>\n",
       "      <td>Tengo que buscar otro sistema, este no funcion...</td>\n",
       "      <td>Que no aprieta bien en el manillar</td>\n",
       "      <td>1</td>\n",
       "      <td>Que no aprieta bien en el manillar Tengo que b...</td>\n",
       "    </tr>\n",
       "    <tr>\n",
       "      <th>3</th>\n",
       "      <td>Utilicé las brocas de menor diámetro y se me d...</td>\n",
       "      <td>Brocas de mantequilla</td>\n",
       "      <td>1</td>\n",
       "      <td>Brocas de mantequilla Utilicé las brocas de me...</td>\n",
       "    </tr>\n",
       "    <tr>\n",
       "      <th>4</th>\n",
       "      <td>No me gusta su olor a viejo y aspecto malo</td>\n",
       "      <td>No me gusta</td>\n",
       "      <td>1</td>\n",
       "      <td>No me gusta No me gusta su olor a viejo y aspe...</td>\n",
       "    </tr>\n",
       "  </tbody>\n",
       "</table>\n",
       "</div>"
      ],
      "text/plain": [
       "                                         review_body  \\\n",
       "0  Malisimo, muy grande demasiado aparatoso y mal...   \n",
       "1          No he recibido el pedido no la devolución   \n",
       "2  Tengo que buscar otro sistema, este no funcion...   \n",
       "3  Utilicé las brocas de menor diámetro y se me d...   \n",
       "4         No me gusta su olor a viejo y aspecto malo   \n",
       "\n",
       "                         review_title  stars  \\\n",
       "0                         Mala compra      1   \n",
       "1                   No lo he recibido      1   \n",
       "2  Que no aprieta bien en el manillar      1   \n",
       "3               Brocas de mantequilla      1   \n",
       "4                         No me gusta      1   \n",
       "\n",
       "                                        ReviewConcat  \n",
       "0  Mala compra Malisimo, muy grande demasiado apa...  \n",
       "1  No lo he recibido No he recibido el pedido no ...  \n",
       "2  Que no aprieta bien en el manillar Tengo que b...  \n",
       "3  Brocas de mantequilla Utilicé las brocas de me...  \n",
       "4  No me gusta No me gusta su olor a viejo y aspe...  "
      ]
     },
     "execution_count": 11,
     "metadata": {},
     "output_type": "execute_result"
    }
   ],
   "source": [
    "# Creamos columna nueva con la información del review body y el review title\n",
    "dataset[\"ReviewConcat\"] = dataset.review_title+ \" \" + dataset.review_body\n",
    "dataset.head()"
   ]
  },
  {
   "cell_type": "code",
   "execution_count": 12,
   "metadata": {},
   "outputs": [],
   "source": [
    "#Cargamos los stopwprds en español\n",
    "stopwords = nltk.corpus.stopwords.words('spanish')\n",
    "#stopwords"
   ]
  },
  {
   "cell_type": "code",
   "execution_count": 13,
   "metadata": {},
   "outputs": [],
   "source": [
    "# Importamos esta libreria que nos permite reemplzar caracteres\n",
    "import re\n",
    "\n",
    "# Importamos la función que nos permite Stemmizar de nltk y definimos el stemmer\n",
    "\n",
    "from nltk.stem import SnowballStemmer\n",
    "stemmer = SnowballStemmer('spanish')\n"
   ]
  },
  {
   "cell_type": "code",
   "execution_count": 14,
   "metadata": {},
   "outputs": [],
   "source": [
    "# Recorremos los reviews y le vamos aplicando la Normalizacion y luega el Stemming a cada uno\n",
    "review_list=[]\n",
    "for review in dataset.ReviewConcat:\n",
    "   \n",
    "        # Pasamos todo a minúsculas\n",
    "    review=review.lower()\n",
    "     # Vamos a reemplzar los caracteres que no sean leras por espacios\n",
    "    review=re.sub(\"[^a-zA-ZáéíóúÁÉÍÓÚ]\",\" \",str(review))\n",
    "   \n",
    "\n",
    "    \n",
    "    # Tokenizamos para separar las palabras del titular\n",
    "    review=nltk.word_tokenize(review)\n",
    "\n",
    "    # Eliminamos las palabras de menos de 2 letras\n",
    "    review = [palabra for palabra in review if len(palabra)>2]\n",
    "    # Sacamos las Stopwords\n",
    "    review = [palabra for palabra in review if not palabra in stopwords]\n",
    "    #Creo varieble con contiendo de reiew\n",
    "    ReviewSinStemmer= review\n",
    "    \n",
    "    ## Hasta acá Normalizamos, ahora a stemmizar\n",
    "    \n",
    "    # Aplicamos la funcion para buscar la raiz de las palabras\n",
    "    review=[(stemmer.stem(palabra)) for palabra in review]\n",
    "  \n",
    "    #print(review)\n",
    "    #review=[palabra for palabra in review]\n",
    "    # Por ultimo volvemos a unir el titular\n",
    "    review=\" \".join(review)\n",
    "    ReviewSinStemmer= \" \".join(ReviewSinStemmer)\n",
    "    \n",
    "    # Vamos armando una lista con todos los titulares\n",
    "    review_list.append(review)"
   ]
  },
  {
   "cell_type": "markdown",
   "metadata": {},
   "source": [
    " Durante el proceso de aplicar el stemmer se observó diferencias grandes entre los review sin stmmer y con stemmer al principio se pensó que estas diferencias significativas eran debido a un error pero luego de hacer la respectiva revisión de la librería del stemmer en español se encontró que internamente hace una especie de obtención de la raíz de la palabra pero de una forma no cotidiana en español, la librería tiene su propio diccionario para realizar esta operación. Comparto el enlace dónde se observó dichas diferencias http://snowball.tartarus.org/algorithms/spanish/diffs.txt\n"
   ]
  },
  {
   "cell_type": "code",
   "execution_count": 15,
   "metadata": {},
   "outputs": [
    {
     "name": "stdout",
     "output_type": "stream",
     "text": [
      "Sin Stemmer:  buena calidad artículo cumplido expectativas deseaba\n",
      "Con Stemmer:  buen calid articul cumpl expect des\n"
     ]
    }
   ],
   "source": [
    "#diferencias entre los review con sttemer y sin setmmer\n",
    "print(\"Sin Stemmer: \",ReviewSinStemmer)\n",
    "print(\"Con Stemmer: \",review)\n"
   ]
  },
  {
   "cell_type": "code",
   "execution_count": 16,
   "metadata": {},
   "outputs": [
    {
     "data": {
      "text/html": [
       "<div>\n",
       "<style scoped>\n",
       "    .dataframe tbody tr th:only-of-type {\n",
       "        vertical-align: middle;\n",
       "    }\n",
       "\n",
       "    .dataframe tbody tr th {\n",
       "        vertical-align: top;\n",
       "    }\n",
       "\n",
       "    .dataframe thead th {\n",
       "        text-align: right;\n",
       "    }\n",
       "</style>\n",
       "<table border=\"1\" class=\"dataframe\">\n",
       "  <thead>\n",
       "    <tr style=\"text-align: right;\">\n",
       "      <th></th>\n",
       "      <th>review_body</th>\n",
       "      <th>review_title</th>\n",
       "      <th>stars</th>\n",
       "      <th>ReviewConcat</th>\n",
       "      <th>review_stem</th>\n",
       "    </tr>\n",
       "  </thead>\n",
       "  <tbody>\n",
       "    <tr>\n",
       "      <th>4995</th>\n",
       "      <td>Me ha encantado la cesta. Ha llegado impecable...</td>\n",
       "      <td>guadalupe</td>\n",
       "      <td>5</td>\n",
       "      <td>guadalupe Me ha encantado la cesta. Ha llegado...</td>\n",
       "      <td>guadalup encant cest lleg impec tam util pes f...</td>\n",
       "    </tr>\n",
       "    <tr>\n",
       "      <th>4996</th>\n",
       "      <td>Desempeña su función correctamente</td>\n",
       "      <td>calidad precio</td>\n",
       "      <td>5</td>\n",
       "      <td>calidad precio Desempeña su función correctamente</td>\n",
       "      <td>calid preci desemp funcion correct</td>\n",
       "    </tr>\n",
       "    <tr>\n",
       "      <th>4997</th>\n",
       "      <td>Me ha encantado la diadema! Las flores son tal...</td>\n",
       "      <td>Excelente</td>\n",
       "      <td>5</td>\n",
       "      <td>Excelente Me ha encantado la diadema! Las flor...</td>\n",
       "      <td>excelent encant diadem flor tal vien imag ven ...</td>\n",
       "    </tr>\n",
       "    <tr>\n",
       "      <th>4998</th>\n",
       "      <td>A mi me gustan mucho las fundas TPU, ya que so...</td>\n",
       "      <td>Genial</td>\n",
       "      <td>5</td>\n",
       "      <td>Genial A mi me gustan mucho las fundas TPU, ya...</td>\n",
       "      <td>genial gust fund tpu fund normal fin color hac...</td>\n",
       "    </tr>\n",
       "    <tr>\n",
       "      <th>4999</th>\n",
       "      <td>El artículo ha cumplido con las expectativas q...</td>\n",
       "      <td>Buena calidad</td>\n",
       "      <td>5</td>\n",
       "      <td>Buena calidad El artículo ha cumplido con las ...</td>\n",
       "      <td>buen calid articul cumpl expect des</td>\n",
       "    </tr>\n",
       "  </tbody>\n",
       "</table>\n",
       "</div>"
      ],
      "text/plain": [
       "                                            review_body    review_title  \\\n",
       "4995  Me ha encantado la cesta. Ha llegado impecable...       guadalupe   \n",
       "4996                 Desempeña su función correctamente  calidad precio   \n",
       "4997  Me ha encantado la diadema! Las flores son tal...       Excelente   \n",
       "4998  A mi me gustan mucho las fundas TPU, ya que so...          Genial   \n",
       "4999  El artículo ha cumplido con las expectativas q...   Buena calidad   \n",
       "\n",
       "      stars                                       ReviewConcat  \\\n",
       "4995      5  guadalupe Me ha encantado la cesta. Ha llegado...   \n",
       "4996      5  calidad precio Desempeña su función correctamente   \n",
       "4997      5  Excelente Me ha encantado la diadema! Las flor...   \n",
       "4998      5  Genial A mi me gustan mucho las fundas TPU, ya...   \n",
       "4999      5  Buena calidad El artículo ha cumplido con las ...   \n",
       "\n",
       "                                            review_stem  \n",
       "4995  guadalup encant cest lleg impec tam util pes f...  \n",
       "4996                 calid preci desemp funcion correct  \n",
       "4997  excelent encant diadem flor tal vien imag ven ...  \n",
       "4998  genial gust fund tpu fund normal fin color hac...  \n",
       "4999                buen calid articul cumpl expect des  "
      ]
     },
     "execution_count": 16,
     "metadata": {},
     "output_type": "execute_result"
    }
   ],
   "source": [
    "#columna nueva con la stematización\n",
    "dataset[\"review_stem\"] = review_list\n",
    "dataset.tail()"
   ]
  },
  {
   "cell_type": "code",
   "execution_count": 17,
   "metadata": {},
   "outputs": [],
   "source": [
    "#Conversión a lista de la columna stematizada\n",
    "list_review_stem = list(dataset['review_stem'].values)\n",
    "#nos quedamos con el array de los valores de la califación\n",
    "Calification = dataset['stars'].values"
   ]
  },
  {
   "cell_type": "markdown",
   "metadata": {},
   "source": [
    "Vampos a vectorizar utilizando la función CountVectorizer de ScikitLearn la cual creará un vector a partir de la frecuencia de cada palabra en el texto"
   ]
  },
  {
   "cell_type": "code",
   "execution_count": 18,
   "metadata": {},
   "outputs": [],
   "source": [
    "from sklearn.feature_extraction.text import CountVectorizer\n",
    "\n",
    "# Usaremos solo las 10000 palabras con mas frecuencia en todo el corpus para generar los vectores\n",
    "max_features=10000\n",
    "\n",
    "# Es decir que cada instancia tendrá 1000 features\n",
    "cou_vec=CountVectorizer(max_features=max_features) # stop_words=\"english\" , ngram_range=(1, 2)"
   ]
  },
  {
   "cell_type": "code",
   "execution_count": 19,
   "metadata": {},
   "outputs": [
    {
     "name": "stdout",
     "output_type": "stream",
     "text": [
      "50 palabras mas usadas:  ['aaa', 'aba', 'abaj', 'abandon', 'abarc', 'abej', 'abertur', 'abiert', 'abir', 'abismal', 'aboll', 'abon', 'abra', 'abran', 'abraz', 'abrazader', 'abre', 'abren', 'abres', 'abri', 'abriend', 'abrig', 'abril', 'abrillant', 'abrir', 'abrirl', 'abro', 'abroch', 'absolut', 'absorb', 'absorcion', 'absurd', 'abult', 'aburr', 'acab', 'acar', 'acarici', 'acas', 'acced', 'acces', 'accesori', 'accident', 'accidental', 'accion', 'ace', 'aceit', 'aceler', 'acelerometr', 'acent', 'acentu']\n"
     ]
    }
   ],
   "source": [
    "#Le pasamos nuestra lista de palabras al objeto cou_vec\n",
    "matriz_reviews = cou_vec.fit_transform(list_review_stem)\n",
    "# Tomamos las palabras\n",
    "all_words = cou_vec.get_feature_names()\n",
    "\n",
    "# Vizualizamos 50 de las palabras mas usadas\n",
    "print(\"50 palabras mas usadas: \",all_words[0:50])"
   ]
  },
  {
   "cell_type": "code",
   "execution_count": 20,
   "metadata": {},
   "outputs": [],
   "source": [
    "#pasamos de matriz a array la variable matriz_reviews\n",
    "x = matriz_reviews.toarray()\n",
    "y = Calification\n",
    "\n",
    "#Hacemos la separación en data entrenamiento y pruebas\n",
    "xtrain, xtest, ytrain, ytest = train_test_split(x,y,test_size=0.3,random_state=42,stratify=y)"
   ]
  },
  {
   "cell_type": "code",
   "execution_count": 21,
   "metadata": {},
   "outputs": [
    {
     "name": "stdout",
     "output_type": "stream",
     "text": [
      "F1 Score NB Train=  0.7723180349131589\n",
      "F1 Score NB TEST=  0.2877054546650875\n"
     ]
    }
   ],
   "source": [
    "#Aplicamos un modelo de bayes simple\n",
    "\n",
    "nb = GaussianNB()\n",
    "nb.fit(xtrain,ytrain)\n",
    "y_predTrain=nb.predict(xtrain)\n",
    "y_pred=nb.predict(xtest)\n",
    "#---------Train----------\n",
    "F1_Score_NBTrain= f1_score(ytrain, y_predTrain, average='macro')\n",
    "print(\"F1 Score NB Train= \",F1_Score_NBTrain)\n",
    "#---------Test----------\n",
    "F1_Score_NBTEST= f1_score(ytest, y_pred, average='macro')\n",
    "print(\"F1 Score NB TEST= \",F1_Score_NBTEST)\n"
   ]
  },
  {
   "cell_type": "code",
   "execution_count": 22,
   "metadata": {},
   "outputs": [
    {
     "name": "stdout",
     "output_type": "stream",
     "text": [
      "F1 Score NB Train=  1.0\n",
      "F1 Score NB TEST=  0.41184517415110483\n"
     ]
    }
   ],
   "source": [
    "#Aplicamos un modelo de Random forest con parámetros por defecto\n",
    "\n",
    "rf = RandomForestClassifier(n_estimators = 50, random_state=42)\n",
    "rf.fit(xtrain,ytrain)\n",
    "y_predTrain=rf.predict(xtrain)\n",
    "y_pred=rf.predict(xtest)\n",
    "#---------Train----------\n",
    "F1_Score_forestTrain= f1_score(ytrain, y_predTrain, average='macro')\n",
    "print(\"F1 Score NB Train= \",F1_Score_forestTrain)\n",
    "#---------Test----------\n",
    "F1_Score_forestTEST= f1_score(ytest, y_pred, average='macro')\n",
    "print(\"F1 Score NB TEST= \",F1_Score_forestTEST)"
   ]
  },
  {
   "cell_type": "code",
   "execution_count": 23,
   "metadata": {},
   "outputs": [
    {
     "name": "stdout",
     "output_type": "stream",
     "text": [
      "F1 Score NB Train=  0.9785587796228926\n",
      "F1 Score NB TEST=  0.40119218979615423\n"
     ]
    }
   ],
   "source": [
    "#Aplicamos un modelo de svc con parámetros por defecto\n",
    "# Notar que en vez de utilizar SVC, vamos a usar LinearSVC. \n",
    "# Para el Kernel Lineal, esta función es MUCHO mas rapida que la tradicional SVC.\n",
    "\n",
    "\n",
    "svc = LinearSVC(C = 1,max_iter=1000)\n",
    "svc.fit(xtrain,ytrain)\n",
    "y_predTrain=svc.predict(xtrain)\n",
    "y_pred=svc.predict(xtest)\n",
    "#---------Train----------\n",
    "F1_Score_svcTrain= f1_score(ytrain, y_predTrain, average='macro')\n",
    "print(\"F1 Score NB Train= \",F1_Score_svcTrain)\n",
    "#---------Test----------\n",
    "F1_Score_svcTEST= f1_score(ytest, y_pred, average='macro')\n",
    "print(\"F1 Score NB TEST= \",F1_Score_svcTEST)"
   ]
  },
  {
   "cell_type": "markdown",
   "metadata": {},
   "source": [
    "La siguiente gráfica representa los comportamientos de los valores predichos por el modelo y los valores reales. se observa por ejemplo que cuando el valor real es 5 el valor predicho puede ser un 4 lo cual es bastante cercano, pero al verlo como un problema de clasificación las métricas se ven muy castigas, por ende se sugiere trabajarlo en el proyecto 4 como un modelo de regresión y establecer umbrales para las categorías."
   ]
  },
  {
   "cell_type": "code",
   "execution_count": 24,
   "metadata": {},
   "outputs": [
    {
     "data": {
      "text/plain": [
       "Text(0, 0.5, 'Estrellas')"
      ]
     },
     "execution_count": 24,
     "metadata": {},
     "output_type": "execute_result"
    },
    {
     "data": {
      "image/png": "[encoded data removed]",
      "text/plain": [
       "<Figure size 1080x360 with 1 Axes>"
      ]
     },
     "metadata": {},
     "output_type": "display_data"
    }
   ],
   "source": [
    "plt.figure(figsize=(15,5))\n",
    "sns.scatterplot(data=ytest[0:25], x=np.arange(len(ytest[0:25])),y=ytest[0:25], s=80)\n",
    "sns.scatterplot(data=y_pred[0:25], x=np.arange(len(y_pred[0:25])),y=y_pred[0:25], s=150)\n",
    "plt.legend([\"Valor Real\",\"Valor Predicho\"])\n",
    "plt.ylim(0, 5.5)\n",
    "plt.xlabel(\"Registro\")\n",
    "plt.ylabel(\"Estrellas\")"
   ]
  },
  {
   "cell_type": "code",
   "execution_count": 25,
   "metadata": {},
   "outputs": [
    {
     "data": {
      "image/png": "[encoded data removed]",
      "text/plain": [
       "<Figure size 504x504 with 2 Axes>"
      ]
     },
     "metadata": {},
     "output_type": "display_data"
    }
   ],
   "source": [
    "\n",
    "\n",
    "def confusion(ytest,y_pred):\n",
    "    names=[\"1\",\"2\",\"3\",\"4\",\"5\"]\n",
    "    cm=confusion_matrix(ytest,y_pred)\n",
    "    f,ax=plt.subplots(figsize=(7,7))\n",
    "    sns.heatmap(cm,annot=True,linewidth=.5,linecolor=\"r\",fmt=\".0f\",ax=ax)\n",
    "    plt.xlabel(\"y_pred\")\n",
    "    plt.ylabel(\"ytrue\")\n",
    "    ax.set_xticklabels(names)\n",
    "    ax.set_yticklabels(names)\n",
    "    plt.show()\n",
    "\n",
    "    return\n",
    "confusion(ytest,y_pred)\n"
   ]
  },
  {
   "cell_type": "markdown",
   "metadata": {},
   "source": [
    "Imprimimos la matriz de confusión y vemos que tiene una diagonal con valores altos lo que significa que logra predecir buena cantidad de los valores reales, pero adicional vemos que los valores extemos (1,5) son los que presentan mejor comportamiento. Cómo era de esperarse alrededor del 3 hay gran variabilidad porque puede que el modelo lo tome como un 2 o un 4 y no como el 3."
   ]
  },
  {
   "cell_type": "markdown",
   "metadata": {},
   "source": [
    "# Aplicación de modelos de regresión"
   ]
  },
  {
   "cell_type": "code",
   "execution_count": 26,
   "metadata": {},
   "outputs": [
    {
     "name": "stdout",
     "output_type": "stream",
     "text": [
      "Valor RMSE modelo RandoForest TRAIN:  0.4211635583204497\n",
      "Valor RMSE modelo RandoForest TEST:  1.0981244616769692\n"
     ]
    }
   ],
   "source": [
    "#Aplicamos un modelo de Random forest con parámetros por defecto\n",
    "\n",
    "\n",
    "rf = RandomForestRegressor(n_estimators = 25, random_state=42)\n",
    "rf.fit(xtrain,ytrain)\n",
    "y_predTrain=rf.predict(xtrain)\n",
    "y_pred=rf.predict(xtest)\n",
    "#---------Train----------\n",
    "RMSE_forestTrain= np.sqrt(metrics.mean_squared_error(ytrain, y_predTrain))\n",
    "print(\"Valor RMSE modelo RandoForest TRAIN: \",RMSE_forestTrain)\n",
    "#---------Test----------\n",
    "RMSE_forestTEST= np.sqrt(metrics.mean_squared_error(ytest, y_pred))\n",
    "print(\"Valor RMSE modelo RandoForest TEST: \",RMSE_forestTEST)\n",
    "\n"
   ]
  },
  {
   "cell_type": "code",
   "execution_count": 27,
   "metadata": {},
   "outputs": [
    {
     "name": "stdout",
     "output_type": "stream",
     "text": [
      "Valor RMSE modelo SVR TRAIN:  0.619227210390104\n",
      "Valor RMSE modelo SVR TEST:  1.0484800461001755\n"
     ]
    }
   ],
   "source": [
    "#Aplicamos un modelo de svr con parámetros por defecto\n",
    "# vamos a usar SVR. \n",
    "\n",
    "svr = SVR(kernel = 'rbf')\n",
    "svr.fit(xtrain,ytrain)\n",
    "y_predTrain=svr.predict(xtrain)\n",
    "y_pred=svr.predict(xtest)\n",
    "#---------Train----------\n",
    "RMSE__svrTrain= np.sqrt(metrics.mean_squared_error(ytrain, y_predTrain))\n",
    "print(\"Valor RMSE modelo SVR TRAIN: \",RMSE__svrTrain)\n",
    "#---------Test----------\n",
    "RMSE__svrTEST= np.sqrt(metrics.mean_squared_error(ytest, y_pred))\n",
    "print(\"Valor RMSE modelo SVR TEST: \",RMSE__svrTEST)\n"
   ]
  },
  {
   "cell_type": "markdown",
   "metadata": {},
   "source": [
    "Aplicamos el random search para encontrar los mejores parámetros tanto para el árbol de decisión como para el SVR. "
   ]
  },
  {
   "cell_type": "code",
   "execution_count": 28,
   "metadata": {},
   "outputs": [
    {
     "name": "stdout",
     "output_type": "stream",
     "text": [
      "Mejores parametros: {'min_samples_split': 12, 'min_samples_leaf': 4, 'max_depth': 16}\n"
     ]
    }
   ],
   "source": [
    "#Probamos GridSearch para una mejor determinación de hiperparámetros del random forest\n",
    "\n",
    "tree= RandomForestRegressor()\n",
    "param_grid = {\"min_samples_split\": [4, 8, 12],\n",
    "              \"max_depth\": [4,8,12,16],\n",
    "              \"min_samples_leaf\": [4, 8, 12],\n",
    "              }\n",
    "\n",
    "# ESTRATEGIA 2: Random Search\n",
    "grid_rf = RandomizedSearchCV(tree, param_grid,n_iter=10, random_state=0,n_jobs=-1)\n",
    "\n",
    "grid_rf.fit(xtrain,ytrain)\n",
    "print(\"Mejores parametros: \"+str(grid_rf.best_params_))"
   ]
  },
  {
   "cell_type": "code",
   "execution_count": 29,
   "metadata": {},
   "outputs": [
    {
     "name": "stdout",
     "output_type": "stream",
     "text": [
      "Valor RMSE mejor modelo RandomForest TRAIN:  0.980445445614256\n",
      "Valor RMSE mejor modelo RandomForest TEST:  1.1079357385400475\n"
     ]
    }
   ],
   "source": [
    "#Evaluamos el mejor  random forest\n",
    "y_predTrain=grid_rf.predict(xtrain)\n",
    "y_pred=grid_rf.predict(xtest)\n",
    "#---------Train----------\n",
    "RMSE_forestTrain= np.sqrt(metrics.mean_squared_error(ytrain, y_predTrain))\n",
    "print(\"Valor RMSE mejor modelo RandomForest TRAIN: \",RMSE_forestTrain)\n",
    "#---------Test----------\n",
    "RMSE_forestTEST= np.sqrt(metrics.mean_squared_error(ytest, y_pred))\n",
    "print(\"Valor RMSE mejor modelo RandomForest TEST: \",RMSE_forestTEST)\n",
    "\n"
   ]
  },
  {
   "cell_type": "markdown",
   "metadata": {},
   "source": [
    "ahora encontramos los mejores hiperparámetros para el SVR"
   ]
  },
  {
   "cell_type": "code",
   "execution_count": 45,
   "metadata": {},
   "outputs": [
    {
     "name": "stdout",
     "output_type": "stream",
     "text": [
      "Fitting 5 folds for each of 10 candidates, totalling 50 fits\n"
     ]
    },
    {
     "name": "stderr",
     "output_type": "stream",
     "text": [
      "[Parallel(n_jobs=-1)]: Using backend LokyBackend with 8 concurrent workers.\n",
      "[Parallel(n_jobs=-1)]: Done  34 tasks      | elapsed: 13.2min\n",
      "[Parallel(n_jobs=-1)]: Done  50 out of  50 | elapsed: 16.9min finished\n"
     ]
    },
    {
     "name": "stdout",
     "output_type": "stream",
     "text": [
      "Mejores parametros: {'max_iter': 1000, 'gamma': 'auto', 'degree': 6, 'coef0': 1, 'C': 10}\n"
     ]
    },
    {
     "name": "stderr",
     "output_type": "stream",
     "text": [
      "C:\\ProgramData\\Anaconda3\\lib\\site-packages\\sklearn\\svm\\_base.py:246: ConvergenceWarning: Solver terminated early (max_iter=1000).  Consider pre-processing your data with StandardScaler or MinMaxScaler.\n",
      "  warnings.warn('Solver terminated early (max_iter=%i).'\n"
     ]
    }
   ],
   "source": [
    "#Probamos GridSearch para una mejor determinación de hiperparámetros del SVR\n",
    "svr = SVR()\n",
    "param_grid = { 'C' : [1,10],\n",
    "               'degree' : [4,6,8],\n",
    "               'coef0' : [0,0.01,0,1],\n",
    "               'max_iter':[1000],\n",
    "               'gamma':['auto']\n",
    "              }\n",
    "\n",
    "# ESTRATEGIA 2: SVR\n",
    "grid_SVR = RandomizedSearchCV(svr, param_grid,n_iter=10, random_state=0,n_jobs=-1,verbose=1)\n",
    "#Entrenamos con el modelo con los parámetros optimizados\n",
    "grid_SVR.fit(xtrain,ytrain)\n",
    "print(\"Mejores parametros: \"+str(grid_SVR.best_params_))"
   ]
  },
  {
   "cell_type": "code",
   "execution_count": 46,
   "metadata": {},
   "outputs": [
    {
     "name": "stdout",
     "output_type": "stream",
     "text": [
      "Valor RMSE modelo SVR TRAIN:  1.2640519061385733\n",
      "Valor RMSE modelo SVR TEST:  1.3167127552628115\n"
     ]
    }
   ],
   "source": [
    "y_predTrain=grid_SVR.predict(xtrain)\n",
    "y_pred=grid_SVR.predict(xtest)\n",
    "#---------Train----------\n",
    "RMSE__svrTrain= np.sqrt(metrics.mean_squared_error(ytrain, y_predTrain))\n",
    "print(\"Valor RMSE modelo SVR TRAIN: \",RMSE__svrTrain)\n",
    "#---------Test----------\n",
    "RMSE__svrTEST= np.sqrt(metrics.mean_squared_error(ytest, y_pred))\n",
    "print(\"Valor RMSE modelo SVR TEST: \",RMSE__svrTEST)"
   ]
  },
  {
   "cell_type": "markdown",
   "metadata": {},
   "source": [
    "Luego de ejecutar el random search se obtuvo lo siguientes Mejores parametros: {'max_iter': 1000, 'kernel': 'rbf', 'gamma': 'auto', 'degree': 8, 'coef0': 0.1, 'C': 10}"
   ]
  },
  {
   "cell_type": "markdown",
   "metadata": {},
   "source": [
    "Mejores parametros: {'max_iter': 1000, 'gamma': 'auto', 'degree': 4, 'coef0': 0.01, 'C': 10}"
   ]
  },
  {
   "cell_type": "code",
   "execution_count": 32,
   "metadata": {},
   "outputs": [
    {
     "name": "stdout",
     "output_type": "stream",
     "text": [
      "0.27939472163941836\n",
      "6.206862369854321\n"
     ]
    }
   ],
   "source": [
    "#print(y_pred[0:1000])\n",
    "#print(ytest[0:25])\n",
    "print(y_pred.min())\n",
    "print(y_pred.max())\n"
   ]
  },
  {
   "cell_type": "code",
   "execution_count": 33,
   "metadata": {},
   "outputs": [],
   "source": [
    "#Vamos a normalizar los resultados obtenidos por el mejor modelo de regresión,\n",
    "#para esto vamos a tener los rangos dentro de los condicionales\n",
    "y_PredNorm=[]\n",
    "for i in y_pred:\n",
    "    if i <= 2:\n",
    "        y_PredNorm.append(1)\n",
    "        \n",
    "    elif i > 2 and i <= 2.62:\n",
    "        y_PredNorm.append(2)\n",
    "        \n",
    "    elif i > 2.62 and i < 3.22:\n",
    "        y_PredNorm.append(3)\n",
    "        \n",
    "    elif i >= 3.22 and i < 3.96:\n",
    "           y_PredNorm.append(4)\n",
    "    elif i >= 3.96:\n",
    "           y_PredNorm.append(5)\n",
    "y_PredNorm=np.array(y_PredNorm)"
   ]
  },
  {
   "cell_type": "code",
   "execution_count": 34,
   "metadata": {},
   "outputs": [
    {
     "data": {
      "text/plain": [
       "Text(0, 0.5, 'Estrellas')"
      ]
     },
     "execution_count": 34,
     "metadata": {},
     "output_type": "execute_result"
    },
    {
     "data": {
      "image/png": "[encoded data removed]",
      "text/plain": [
       "<Figure size 1080x360 with 1 Axes>"
      ]
     },
     "metadata": {},
     "output_type": "display_data"
    }
   ],
   "source": [
    "#Graficamos los valores predichos vs los valores reales\n",
    "plt.figure(figsize=(15,5))\n",
    "sns.scatterplot(data=ytest[0:25], x=np.arange(len(ytest[0:25])),y=ytest[0:25], s=80)\n",
    "sns.scatterplot(data=y_PredNorm[0:25], x=np.arange(len(y_PredNorm[0:25])),y=y_PredNorm[0:25], s=150)\n",
    "plt.legend([\"Valor Real\",\"Valor Predicho\"])\n",
    "plt.ylim(0, 5.5)\n",
    "plt.xlabel(\"Registro\")\n",
    "plt.ylabel(\"Estrellas\")"
   ]
  },
  {
   "cell_type": "markdown",
   "metadata": {},
   "source": [
    "Esta gráfica nos muestra lo que veiamos en los resultados del RMSE que el error en la clasificación está en promedio +-1 estrella lo cual el comportamiento de los modelos es adecuado."
   ]
  },
  {
   "cell_type": "code",
   "execution_count": 35,
   "metadata": {},
   "outputs": [
    {
     "data": {
      "image/png": "[encoded data removed]",
      "text/plain": [
       "<Figure size 504x504 with 2 Axes>"
      ]
     },
     "metadata": {},
     "output_type": "display_data"
    }
   ],
   "source": [
    "\n",
    "def confusion(ytest,y_PredNorm):\n",
    "    names=[\"1\",\"2\",\"3\",\"4\",\"5\"]\n",
    "    cm=confusion_matrix(ytest,y_PredNorm)\n",
    "    f,ax=plt.subplots(figsize=(7,7))\n",
    "    sns.heatmap(cm,annot=True,linewidth=.5,linecolor=\"r\",fmt=\".0f\",ax=ax)\n",
    "    plt.xlabel(\"y_pred\")\n",
    "    plt.ylabel(\"ytrue\")\n",
    "    ax.set_xticklabels(names)\n",
    "    ax.set_yticklabels(names)\n",
    "    plt.show()\n",
    "\n",
    "    return\n",
    "confusion(ytest,y_PredNorm)\n"
   ]
  },
  {
   "cell_type": "markdown",
   "metadata": {},
   "source": [
    "Imprimimos la matriz de confusión y vemos que al igual que la matriz de confusión realizada para los modelos de clasificación tiene una diagonal con valores altos lo que significa que logra predecir buena cantidad de los valores reales, una diferencia significativa es que en los valorez extremos (1,5) tiene un comportamiento un poco inferior para clasificarlos que el modelo de clasificación pero en los valores medios el modelo de regresión tiene un mejor comportamiento. además es mucho menos probable encontrar un error grande (un 1 clasificado como 5 o viceversa). Por ende se puede concluir que el modelo de regresión aplicado con los rango para la normalización tiene mejor comportamiento que el modelo de clasificación realizado en el proyecto 3 "
   ]
  },
  {
   "cell_type": "markdown",
   "metadata": {},
   "source": [
    "Conclusiones"
   ]
  },
  {
   "cell_type": "markdown",
   "metadata": {},
   "source": [
    "Con modelos de clasificación Se intentó evaluar 3 modelos básicos bayes(benchmark), random forest y SVC. se vió que el random forest y el SVC lograron mejores resultados que el modelo benchmark era de esperarse ya que son modelos más complejos. Entre SVC y random forest se elige el SVC ya que se ejecutó más rápido y además presentó mejores resultados de f1score que fue la métrica para la evaluación de los modelos"
   ]
  },
  {
   "cell_type": "markdown",
   "metadata": {},
   "source": [
    "Como conclusión tanto con un modelo de clasificación como con un modelo de regresión se pudo crear un modelo de una máquina de soporte vectorial que puede decir el número de estrellas que puede tener un comentario a partir del titulo y el body del review, pero arrojó resultados más optimos el modelo de regresión."
   ]
  },
  {
   "cell_type": "markdown",
   "metadata": {},
   "source": [
    "Como trabajo a futuro se podría pensar en crear modelos con redes neuronales que la literatura menciona como los modelos más indicados para el trabajo con NLP"
   ]
  },
  {
   "cell_type": "markdown",
   "metadata": {},
   "source": [
    "Para trabajo a futuro se podrían explorar diferentes formas de vectorizar aparte de countvectorizer como TF-IDF que tienen en cuenta el peso de la palabra y puede resultar en un mejor modelo (https://towardsdatascience.com/nlp-in-python-vectorizing-a2b4fc1a339e ó https://bhattbhavesh91.github.io/nlp/count-vectorizer-vs-tf-idf/). Además para trabajo futuro se podrían responder algunas preguntas sobre cuál es el producto con peores calificaciones y explorar un poco más el dataset y sobretodo utilizar el randomsearch para la optimización de hiperparámetros."
   ]
  },
  {
   "cell_type": "code",
   "execution_count": null,
   "metadata": {},
   "outputs": [],
   "source": []
  }
 ],
 "metadata": {
  "colab": {
   "collapsed_sections": [],
   "name": "DS_Proyecto_03_NLP.ipynb",
   "provenance": []
  },
  "kernelspec": {
   "display_name": "Python 3",
   "language": "python",
   "name": "python3"
  },
  "language_info": {
   "codemirror_mode": {
    "name": "ipython",
    "version": 3
   },
   "file_extension": ".py",
   "mimetype": "text/x-python",
   "name": "python",
   "nbconvert_exporter": "python",
   "pygments_lexer": "ipython3",
   "version": "3.8.5"
  }
 },
 "nbformat": 4,
 "nbformat_minor": 1
}
